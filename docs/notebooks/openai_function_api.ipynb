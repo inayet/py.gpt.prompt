{
 "cells": [
  {
   "cell_type": "code",
   "execution_count": 195,
   "metadata": {},
   "outputs": [],
   "source": [
    "import openai\n",
    "import dotenv\n",
    "import os\n",
    "import json\n",
    "from typing import Any, Callable\n",
    "\n",
    "if not dotenv.load_dotenv(\"../../.env\"):\n",
    "    raise ValueError(\"EnvironmentError: Failed to load `.env`\")\n",
    "\n",
    "api_key = os.getenv(\"OPENAI_API_KEY\") or \"\"\n",
    "\n",
    "if not api_key:\n",
    "    raise ValueError(\"EnvironmentError: Failed to load `OPENAI_API_KEY`\")\n",
    "\n",
    "openai.api_key = api_key\n"
   ]
  },
  {
   "cell_type": "code",
   "execution_count": 196,
   "metadata": {},
   "outputs": [],
   "source": [
    "def get_current_weather(location: str, unit: str = \"celsius\"):\n",
    "    \"\"\"\n",
    "    Get the current weather in a given location.\n",
    "\n",
    "    Parameters:\n",
    "    location (str): The city and state, e.g. San Francisco, CA\n",
    "    unit (str): The unit of temperature, can be either 'celsius' or 'fahrenheit'. Default is 'celsius'.\n",
    "\n",
    "    Returns:\n",
    "    str: A string that describes the current weather.\n",
    "    \"\"\"\n",
    "\n",
    "    # This is a mock function, so let's return a mock weather report.\n",
    "    weather_report = f\"The current weather in {location} is 20 degrees {unit}.\"\n",
    "    return weather_report\n"
   ]
  },
  {
   "cell_type": "code",
   "execution_count": 197,
   "metadata": {},
   "outputs": [],
   "source": [
    "function_factory = {\n",
    "    \"get_current_weather\": get_current_weather,\n",
    "}\n"
   ]
  },
  {
   "cell_type": "code",
   "execution_count": 198,
   "metadata": {},
   "outputs": [],
   "source": [
    "function_definitions = [\n",
    "    {\n",
    "        \"name\": \"get_current_weather\",\n",
    "        \"description\": \"Get the current weather in a given location\",\n",
    "        \"parameters\": {\n",
    "            \"type\": \"object\",\n",
    "            \"properties\": {\n",
    "                \"location\": {\n",
    "                    \"type\": \"string\",\n",
    "                    \"description\": \"The city and state, e.g. San Francisco, CA\",\n",
    "                },\n",
    "                \"unit\": {\"type\": \"string\", \"enum\": [\"celsius\", \"fahrenheit\"]},\n",
    "            },\n",
    "            \"required\": [\"location\"],\n",
    "        },\n",
    "    }\n",
    "]"
   ]
  },
  {
   "cell_type": "code",
   "execution_count": 199,
   "metadata": {},
   "outputs": [],
   "source": [
    "def get_function(\n",
    "    message: dict[str, str], functions: dict[str, Callable]\n",
    ") -> dict[str, Any]:\n",
    "    # Note: the JSON response may not always be valid; be sure to handle errors\n",
    "    name = message[\"function_call\"][\"name\"]\n",
    "    callback = functions[name]\n",
    "    arguments = json.loads(message[\"function_call\"][\"arguments\"])\n",
    "    content = callback(**arguments)\n",
    "    response = {\n",
    "        \"role\": \"function\",\n",
    "        \"name\": name,\n",
    "        \"content\": content,\n",
    "    }\n",
    "    return response"
   ]
  },
  {
   "cell_type": "code",
   "execution_count": 200,
   "metadata": {},
   "outputs": [],
   "source": [
    "def initialize_session() -> list[dict[str, str]]:\n",
    "    system_prompt = {\n",
    "        \"role\": \"system\",\n",
    "        \"content\": \"My name is ChatGPT. I am a helpful assistant.\",\n",
    "    }\n",
    "    user_input = {\n",
    "        \"role\": \"user\",\n",
    "        \"content\": \"Hello! What is your name?\",\n",
    "    }\n",
    "    messages = [system_prompt, user_input]\n",
    "    return messages"
   ]
  },
  {
   "cell_type": "code",
   "execution_count": 201,
   "metadata": {},
   "outputs": [],
   "source": [
    "def add_message(role: str, content: str) -> dict[str, str]:\n",
    "    message = {\"role\": role, \"content\": content}\n",
    "    messages.append(message)\n",
    "    return message\n"
   ]
  },
  {
   "cell_type": "code",
   "execution_count": 202,
   "metadata": {},
   "outputs": [],
   "source": [
    "def add_completion(\n",
    "    response: dict[str, Any], messages: list[dict[str, str]]\n",
    ") -> dict[str, str]:\n",
    "    message = response[\"choices\"][0][\"message\"]\n",
    "    messages.append(message)\n",
    "    return message"
   ]
  },
  {
   "cell_type": "code",
   "execution_count": 203,
   "metadata": {},
   "outputs": [],
   "source": [
    "def print_completion(messages: list[dict[str, str]]) -> None:\n",
    "    for message in messages:\n",
    "        print(\"keys:\", message.keys())\n",
    "        print(\"role:\", message[\"role\"])\n",
    "        if message[\"role\"] in [\"system\", \"user\", \"assistant\"]:\n",
    "            print(\"content:\", message[\"content\"])\n",
    "            function_call = message.get(\"function_call\", None)\n",
    "            if function_call:\n",
    "                print(\"function_call:\", function_call)\n",
    "        else:\n",
    "            print(\"name:\", message[\"name\"])\n",
    "            print(\"content:\", json.dumps(message[\"content\"]))\n",
    "        print()\n"
   ]
  },
  {
   "cell_type": "code",
   "execution_count": 204,
   "metadata": {},
   "outputs": [
    {
     "name": "stdout",
     "output_type": "stream",
     "text": [
      "keys: dict_keys(['role', 'content'])\n",
      "role: system\n",
      "content: My name is ChatGPT. I am a helpful assistant.\n",
      "\n",
      "keys: dict_keys(['role', 'content'])\n",
      "role: user\n",
      "content: Hello! What is your name?\n",
      "\n"
     ]
    }
   ],
   "source": [
    "messages = initialize_session()\n",
    "print_completion(messages)\n"
   ]
  },
  {
   "cell_type": "code",
   "execution_count": 205,
   "metadata": {},
   "outputs": [
    {
     "name": "stdout",
     "output_type": "stream",
     "text": [
      "{\n",
      "  \"id\": \"chatcmpl-87bRITHJ8d4Vx6X8RGFX8llf6QcGt\",\n",
      "  \"object\": \"chat.completion\",\n",
      "  \"created\": 1696822904,\n",
      "  \"model\": \"gpt-3.5-turbo-0613\",\n",
      "  \"choices\": [\n",
      "    {\n",
      "      \"index\": 0,\n",
      "      \"message\": {\n",
      "        \"role\": \"assistant\",\n",
      "        \"content\": \"Hello! My name is ChatGPT. How can I assist you today?\"\n",
      "      },\n",
      "      \"finish_reason\": \"stop\"\n",
      "    }\n",
      "  ],\n",
      "  \"usage\": {\n",
      "    \"prompt_tokens\": 31,\n",
      "    \"completion_tokens\": 16,\n",
      "    \"total_tokens\": 47\n",
      "  }\n",
      "}\n"
     ]
    }
   ],
   "source": [
    "get_chat_completion = openai.ChatCompletion.create\n",
    "response = get_chat_completion(model=\"gpt-3.5-turbo\", messages=messages, temperature=0)\n",
    "print(response)\n"
   ]
  },
  {
   "cell_type": "code",
   "execution_count": 206,
   "metadata": {},
   "outputs": [
    {
     "name": "stdout",
     "output_type": "stream",
     "text": [
      "keys: dict_keys(['role', 'content'])\n",
      "role: system\n",
      "content: My name is ChatGPT. I am a helpful assistant.\n",
      "\n",
      "keys: dict_keys(['role', 'content'])\n",
      "role: user\n",
      "content: Hello! What is your name?\n",
      "\n",
      "keys: dict_keys(['role', 'content'])\n",
      "role: assistant\n",
      "content: Hello! My name is ChatGPT. How can I assist you today?\n",
      "\n"
     ]
    }
   ],
   "source": [
    "message = add_completion(response, messages)\n",
    "print_completion(messages)\n"
   ]
  },
  {
   "cell_type": "code",
   "execution_count": 207,
   "metadata": {},
   "outputs": [
    {
     "name": "stdout",
     "output_type": "stream",
     "text": [
      "keys: dict_keys(['role', 'content'])\n",
      "role: system\n",
      "content: My name is ChatGPT. I am a helpful assistant.\n",
      "\n",
      "keys: dict_keys(['role', 'content'])\n",
      "role: user\n",
      "content: Hello! What is your name?\n",
      "\n",
      "keys: dict_keys(['role', 'content'])\n",
      "role: assistant\n",
      "content: Hello! My name is ChatGPT. How can I assist you today?\n",
      "\n",
      "keys: dict_keys(['role', 'content'])\n",
      "role: user\n",
      "content: What is the weather like today in New York City, New York?\n",
      "\n"
     ]
    }
   ],
   "source": [
    "message = add_message(\n",
    "    \"user\", \"What is the weather like today in New York City, New York?\"\n",
    ")\n",
    "print_completion(messages)"
   ]
  },
  {
   "cell_type": "code",
   "execution_count": 208,
   "metadata": {},
   "outputs": [
    {
     "name": "stdout",
     "output_type": "stream",
     "text": [
      "{\n",
      "  \"id\": \"chatcmpl-87bRKWW823bhsr6OcrxM2UyCFxPAV\",\n",
      "  \"object\": \"chat.completion\",\n",
      "  \"created\": 1696822906,\n",
      "  \"model\": \"gpt-3.5-turbo-0613\",\n",
      "  \"choices\": [\n",
      "    {\n",
      "      \"index\": 0,\n",
      "      \"message\": {\n",
      "        \"role\": \"assistant\",\n",
      "        \"content\": null,\n",
      "        \"function_call\": {\n",
      "          \"name\": \"get_current_weather\",\n",
      "          \"arguments\": \"{\\n  \\\"location\\\": \\\"New York City, NY\\\"\\n}\"\n",
      "        }\n",
      "      },\n",
      "      \"finish_reason\": \"function_call\"\n",
      "    }\n",
      "  ],\n",
      "  \"usage\": {\n",
      "    \"prompt_tokens\": 132,\n",
      "    \"completion_tokens\": 20,\n",
      "    \"total_tokens\": 152\n",
      "  }\n",
      "}\n"
     ]
    }
   ],
   "source": [
    "response = get_chat_completion(\n",
    "    model=\"gpt-3.5-turbo-0613\",\n",
    "    messages=messages,\n",
    "    functions=functions,\n",
    "    function_call=\"auto\",  # auto is default, but we'll be explicit\n",
    ")\n",
    "\n",
    "print(response)\n"
   ]
  },
  {
   "cell_type": "code",
   "execution_count": 209,
   "metadata": {},
   "outputs": [
    {
     "name": "stdout",
     "output_type": "stream",
     "text": [
      "keys: dict_keys(['role', 'content'])\n",
      "role: system\n",
      "content: My name is ChatGPT. I am a helpful assistant.\n",
      "\n",
      "keys: dict_keys(['role', 'content'])\n",
      "role: user\n",
      "content: Hello! What is your name?\n",
      "\n",
      "keys: dict_keys(['role', 'content'])\n",
      "role: assistant\n",
      "content: Hello! My name is ChatGPT. How can I assist you today?\n",
      "\n",
      "keys: dict_keys(['role', 'content'])\n",
      "role: user\n",
      "content: What is the weather like today in New York City, New York?\n",
      "\n",
      "keys: dict_keys(['role', 'content', 'function_call'])\n",
      "role: assistant\n",
      "content: None\n",
      "function_call: {\n",
      "  \"name\": \"get_current_weather\",\n",
      "  \"arguments\": \"{\\n  \\\"location\\\": \\\"New York City, NY\\\"\\n}\"\n",
      "}\n",
      "\n"
     ]
    }
   ],
   "source": [
    "message = add_completion(response, messages)\n",
    "print_completion(messages)\n"
   ]
  },
  {
   "cell_type": "code",
   "execution_count": 210,
   "metadata": {},
   "outputs": [
    {
     "name": "stdout",
     "output_type": "stream",
     "text": [
      "{\n",
      "  \"role\": \"assistant\",\n",
      "  \"content\": null,\n",
      "  \"function_call\": {\n",
      "    \"name\": \"get_current_weather\",\n",
      "    \"arguments\": \"{\\n  \\\"location\\\": \\\"New York City, NY\\\"\\n}\"\n",
      "  }\n",
      "}\n"
     ]
    }
   ],
   "source": [
    "print(message)\n"
   ]
  },
  {
   "cell_type": "code",
   "execution_count": 211,
   "metadata": {},
   "outputs": [
    {
     "name": "stdout",
     "output_type": "stream",
     "text": [
      "{'role': 'function', 'name': 'get_current_weather', 'content': 'The current weather in New York City, NY is 20 degrees celsius.'}\n"
     ]
    }
   ],
   "source": [
    "function = get_function(message, function_factory)\n",
    "print(function)\n"
   ]
  },
  {
   "cell_type": "code",
   "execution_count": 212,
   "metadata": {},
   "outputs": [],
   "source": [
    "messages.append(function)\n"
   ]
  },
  {
   "cell_type": "code",
   "execution_count": 213,
   "metadata": {},
   "outputs": [
    {
     "name": "stdout",
     "output_type": "stream",
     "text": [
      "keys: dict_keys(['role', 'content'])\n",
      "role: system\n",
      "content: My name is ChatGPT. I am a helpful assistant.\n",
      "\n",
      "keys: dict_keys(['role', 'content'])\n",
      "role: user\n",
      "content: Hello! What is your name?\n",
      "\n",
      "keys: dict_keys(['role', 'content'])\n",
      "role: assistant\n",
      "content: Hello! My name is ChatGPT. How can I assist you today?\n",
      "\n",
      "keys: dict_keys(['role', 'content'])\n",
      "role: user\n",
      "content: What is the weather like today in New York City, New York?\n",
      "\n",
      "keys: dict_keys(['role', 'content', 'function_call'])\n",
      "role: assistant\n",
      "content: None\n",
      "function_call: {\n",
      "  \"name\": \"get_current_weather\",\n",
      "  \"arguments\": \"{\\n  \\\"location\\\": \\\"New York City, NY\\\"\\n}\"\n",
      "}\n",
      "\n",
      "keys: dict_keys(['role', 'name', 'content'])\n",
      "role: function\n",
      "name: get_current_weather\n",
      "content: \"The current weather in New York City, NY is 20 degrees celsius.\"\n",
      "\n"
     ]
    }
   ],
   "source": [
    "print_completion(messages)\n"
   ]
  },
  {
   "cell_type": "code",
   "execution_count": 214,
   "metadata": {},
   "outputs": [
    {
     "name": "stdout",
     "output_type": "stream",
     "text": [
      "{\n",
      "  \"id\": \"chatcmpl-87bRNXk3PYemijr6bjhVrlF9pYqMD\",\n",
      "  \"object\": \"chat.completion\",\n",
      "  \"created\": 1696822909,\n",
      "  \"model\": \"gpt-3.5-turbo-0613\",\n",
      "  \"choices\": [\n",
      "    {\n",
      "      \"index\": 0,\n",
      "      \"message\": {\n",
      "        \"role\": \"assistant\",\n",
      "        \"content\": \"The current weather in New York City, New York is 20 degrees Celsius.\"\n",
      "      },\n",
      "      \"finish_reason\": \"stop\"\n",
      "    }\n",
      "  ],\n",
      "  \"usage\": {\n",
      "    \"prompt_tokens\": 177,\n",
      "    \"completion_tokens\": 17,\n",
      "    \"total_tokens\": 194\n",
      "  }\n",
      "}\n"
     ]
    }
   ],
   "source": [
    "response = get_chat_completion(\n",
    "    model=\"gpt-3.5-turbo-0613\",\n",
    "    messages=messages,\n",
    "    functions=functions,\n",
    "    function_call=\"auto\",  # auto is default, but we'll be explicit\n",
    ")\n",
    "\n",
    "print(response)\n"
   ]
  },
  {
   "cell_type": "code",
   "execution_count": 215,
   "metadata": {},
   "outputs": [
    {
     "data": {
      "text/plain": [
       "<OpenAIObject at 0x7f57141da270> JSON: {\n",
       "  \"role\": \"assistant\",\n",
       "  \"content\": \"The current weather in New York City, New York is 20 degrees Celsius.\"\n",
       "}"
      ]
     },
     "execution_count": 215,
     "metadata": {},
     "output_type": "execute_result"
    }
   ],
   "source": [
    "add_completion(response, messages)\n"
   ]
  },
  {
   "cell_type": "code",
   "execution_count": 216,
   "metadata": {},
   "outputs": [
    {
     "name": "stdout",
     "output_type": "stream",
     "text": [
      "keys: dict_keys(['role', 'content'])\n",
      "role: system\n",
      "content: My name is ChatGPT. I am a helpful assistant.\n",
      "\n",
      "keys: dict_keys(['role', 'content'])\n",
      "role: user\n",
      "content: Hello! What is your name?\n",
      "\n",
      "keys: dict_keys(['role', 'content'])\n",
      "role: assistant\n",
      "content: Hello! My name is ChatGPT. How can I assist you today?\n",
      "\n",
      "keys: dict_keys(['role', 'content'])\n",
      "role: user\n",
      "content: What is the weather like today in New York City, New York?\n",
      "\n",
      "keys: dict_keys(['role', 'content', 'function_call'])\n",
      "role: assistant\n",
      "content: None\n",
      "function_call: {\n",
      "  \"name\": \"get_current_weather\",\n",
      "  \"arguments\": \"{\\n  \\\"location\\\": \\\"New York City, NY\\\"\\n}\"\n",
      "}\n",
      "\n",
      "keys: dict_keys(['role', 'name', 'content'])\n",
      "role: function\n",
      "name: get_current_weather\n",
      "content: \"The current weather in New York City, NY is 20 degrees celsius.\"\n",
      "\n",
      "keys: dict_keys(['role', 'content'])\n",
      "role: assistant\n",
      "content: The current weather in New York City, New York is 20 degrees Celsius.\n",
      "\n"
     ]
    }
   ],
   "source": [
    "print_completion(messages)\n"
   ]
  },
  {
   "cell_type": "code",
   "execution_count": 217,
   "metadata": {},
   "outputs": [
    {
     "name": "stdout",
     "output_type": "stream",
     "text": [
      "keys: dict_keys(['role', 'content'])\n",
      "role: system\n",
      "content: My name is ChatGPT. I am a helpful assistant.\n",
      "\n",
      "keys: dict_keys(['role', 'content'])\n",
      "role: user\n",
      "content: Hello! What is your name?\n",
      "\n",
      "keys: dict_keys(['role', 'content'])\n",
      "role: assistant\n",
      "content: Hello! My name is ChatGPT. How can I assist you today?\n",
      "\n",
      "keys: dict_keys(['role', 'content'])\n",
      "role: user\n",
      "content: What is the weather like today in New York City, New York?\n",
      "\n",
      "keys: dict_keys(['role', 'content', 'function_call'])\n",
      "role: assistant\n",
      "content: None\n",
      "function_call: {\n",
      "  \"name\": \"get_current_weather\",\n",
      "  \"arguments\": \"{\\n  \\\"location\\\": \\\"New York City, NY\\\"\\n}\"\n",
      "}\n",
      "\n",
      "keys: dict_keys(['role', 'name', 'content'])\n",
      "role: function\n",
      "name: get_current_weather\n",
      "content: \"The current weather in New York City, NY is 20 degrees celsius.\"\n",
      "\n",
      "keys: dict_keys(['role', 'content'])\n",
      "role: assistant\n",
      "content: The current weather in New York City, New York is 20 degrees Celsius.\n",
      "\n",
      "keys: dict_keys(['role', 'content'])\n",
      "role: user\n",
      "content: Thank you! How should I dress for that kind of temperature?\n",
      "\n"
     ]
    }
   ],
   "source": [
    "add_message(\"user\", \"Thank you! How should I dress for that kind of temperature?\")\n",
    "print_completion(messages)\n"
   ]
  },
  {
   "cell_type": "code",
   "execution_count": 218,
   "metadata": {},
   "outputs": [
    {
     "name": "stdout",
     "output_type": "stream",
     "text": [
      "{\n",
      "  \"id\": \"chatcmpl-87bRPl4WjyxuySv9rtDg0sX0pC6vI\",\n",
      "  \"object\": \"chat.completion\",\n",
      "  \"created\": 1696822911,\n",
      "  \"model\": \"gpt-3.5-turbo-0613\",\n",
      "  \"choices\": [\n",
      "    {\n",
      "      \"index\": 0,\n",
      "      \"message\": {\n",
      "        \"role\": \"assistant\",\n",
      "        \"content\": \"For a temperature of 20 degrees Celsius in New York City, it is generally recommended to dress in light to medium layers. You could consider wearing a light sweater or a long-sleeved shirt with a light jacket or cardigan. Additionally, you may want to wear comfortable pants or jeans. It's also a good idea to have a pair of closed-toe shoes or sneakers. Don't forget to bring an umbrella if there is a chance of rain.\"\n",
      "      },\n",
      "      \"finish_reason\": \"stop\"\n",
      "    }\n",
      "  ],\n",
      "  \"usage\": {\n",
      "    \"prompt_tokens\": 214,\n",
      "    \"completion_tokens\": 93,\n",
      "    \"total_tokens\": 307\n",
      "  }\n",
      "}\n"
     ]
    }
   ],
   "source": [
    "# Call the model again with the updated messages\n",
    "response = get_chat_completion(\n",
    "    model=\"gpt-3.5-turbo-0613\",\n",
    "    messages=messages,\n",
    "    functions=functions,\n",
    "    function_call=\"auto\",  # auto is default, but we'll be explicit\n",
    ")\n",
    "\n",
    "print(response)\n"
   ]
  },
  {
   "cell_type": "code",
   "execution_count": 219,
   "metadata": {},
   "outputs": [
    {
     "data": {
      "text/plain": [
       "<OpenAIObject at 0x7f56eae23d10> JSON: {\n",
       "  \"role\": \"assistant\",\n",
       "  \"content\": \"For a temperature of 20 degrees Celsius in New York City, it is generally recommended to dress in light to medium layers. You could consider wearing a light sweater or a long-sleeved shirt with a light jacket or cardigan. Additionally, you may want to wear comfortable pants or jeans. It's also a good idea to have a pair of closed-toe shoes or sneakers. Don't forget to bring an umbrella if there is a chance of rain.\"\n",
       "}"
      ]
     },
     "execution_count": 219,
     "metadata": {},
     "output_type": "execute_result"
    }
   ],
   "source": [
    "add_completion(response, messages)"
   ]
  },
  {
   "cell_type": "code",
   "execution_count": 220,
   "metadata": {},
   "outputs": [
    {
     "name": "stdout",
     "output_type": "stream",
     "text": [
      "keys: dict_keys(['role', 'content'])\n",
      "role: system\n",
      "content: My name is ChatGPT. I am a helpful assistant.\n",
      "\n",
      "keys: dict_keys(['role', 'content'])\n",
      "role: user\n",
      "content: Hello! What is your name?\n",
      "\n",
      "keys: dict_keys(['role', 'content'])\n",
      "role: assistant\n",
      "content: Hello! My name is ChatGPT. How can I assist you today?\n",
      "\n",
      "keys: dict_keys(['role', 'content'])\n",
      "role: user\n",
      "content: What is the weather like today in New York City, New York?\n",
      "\n",
      "keys: dict_keys(['role', 'content', 'function_call'])\n",
      "role: assistant\n",
      "content: None\n",
      "function_call: {\n",
      "  \"name\": \"get_current_weather\",\n",
      "  \"arguments\": \"{\\n  \\\"location\\\": \\\"New York City, NY\\\"\\n}\"\n",
      "}\n",
      "\n",
      "keys: dict_keys(['role', 'name', 'content'])\n",
      "role: function\n",
      "name: get_current_weather\n",
      "content: \"The current weather in New York City, NY is 20 degrees celsius.\"\n",
      "\n",
      "keys: dict_keys(['role', 'content'])\n",
      "role: assistant\n",
      "content: The current weather in New York City, New York is 20 degrees Celsius.\n",
      "\n",
      "keys: dict_keys(['role', 'content'])\n",
      "role: user\n",
      "content: Thank you! How should I dress for that kind of temperature?\n",
      "\n",
      "keys: dict_keys(['role', 'content'])\n",
      "role: assistant\n",
      "content: For a temperature of 20 degrees Celsius in New York City, it is generally recommended to dress in light to medium layers. You could consider wearing a light sweater or a long-sleeved shirt with a light jacket or cardigan. Additionally, you may want to wear comfortable pants or jeans. It's also a good idea to have a pair of closed-toe shoes or sneakers. Don't forget to bring an umbrella if there is a chance of rain.\n",
      "\n"
     ]
    }
   ],
   "source": [
    "print_completion(messages)"
   ]
  }
 ],
 "metadata": {
  "kernelspec": {
   "display_name": ".venv",
   "language": "python",
   "name": "python3"
  },
  "language_info": {
   "codemirror_mode": {
    "name": "ipython",
    "version": 3
   },
   "file_extension": ".py",
   "mimetype": "text/x-python",
   "name": "python",
   "nbconvert_exporter": "python",
   "pygments_lexer": "ipython3",
   "version": "3.11.5"
  },
  "orig_nbformat": 4
 },
 "nbformat": 4,
 "nbformat_minor": 2
}
