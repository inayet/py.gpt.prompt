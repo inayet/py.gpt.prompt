{
 "cells": [
  {
   "cell_type": "code",
   "execution_count": 70,
   "metadata": {},
   "outputs": [],
   "source": [
    "import openai\n",
    "import dotenv\n",
    "import os\n",
    "\n",
    "if not dotenv.load_dotenv(\"../../.env\"):\n",
    "    raise ValueError(\"EnvironmentError: Failed to load `.env`\")\n",
    "\n",
    "api_key = os.getenv(\"OPENAI_API_KEY\") or \"\"\n",
    "\n",
    "if not api_key:\n",
    "    raise ValueError(\"EnvironmentError: Failed to load `OPENAI_API_KEY`\")\n",
    "\n",
    "openai.api_key = api_key"
   ]
  },
  {
   "cell_type": "code",
   "execution_count": 71,
   "metadata": {},
   "outputs": [
    {
     "name": "stdout",
     "output_type": "stream",
     "text": [
      "{\n",
      "  \"id\": \"chatcmpl-7ec9TyoMRjNU6HUXMPxk7NGWL8Lek\",\n",
      "  \"object\": \"chat.completion\",\n",
      "  \"created\": 1689914131,\n",
      "  \"model\": \"gpt-3.5-turbo-0613\",\n",
      "  \"choices\": [\n",
      "    {\n",
      "      \"index\": 0,\n",
      "      \"message\": {\n",
      "        \"role\": \"assistant\",\n",
      "        \"content\": \"Hello! My name is ChatGPT. How can I assist you today?\"\n",
      "      },\n",
      "      \"finish_reason\": \"stop\"\n",
      "    }\n",
      "  ],\n",
      "  \"usage\": {\n",
      "    \"prompt_tokens\": 31,\n",
      "    \"completion_tokens\": 16,\n",
      "    \"total_tokens\": 47\n",
      "  }\n",
      "}\n"
     ]
    }
   ],
   "source": [
    "system_prompt = {\n",
    "    \"role\": \"system\", \"content\": \"My name is ChatGPT. I am a helpful assistant.\"\n",
    "}\n",
    "\n",
    "user_input = {\n",
    "    \"role\": \"user\", \"content\": \"Hello! What is your name?\"\n",
    "}\n",
    "\n",
    "messages = [system_prompt, user_input]\n",
    "\n",
    "get_chat_completion = openai.ChatCompletion.create\n",
    "\n",
    "response = get_chat_completion(model=\"gpt-3.5-turbo\", messages=messages, temperature=0)\n",
    "\n",
    "messages.append(response[\"choices\"][0][\"message\"])\n",
    "\n",
    "print(response)"
   ]
  },
  {
   "cell_type": "code",
   "execution_count": 72,
   "metadata": {},
   "outputs": [
    {
     "name": "stdout",
     "output_type": "stream",
     "text": [
      "system\n",
      "My name is ChatGPT. I am a helpful assistant.\n",
      "\n",
      "user\n",
      "Hello! What is your name?\n",
      "\n",
      "assistant\n",
      "Hello! My name is ChatGPT. How can I assist you today?\n",
      "\n"
     ]
    }
   ],
   "source": [
    "for message in messages:\n",
    "    print(f\"{message['role']}\\n{message['content']}\\n\")"
   ]
  },
  {
   "cell_type": "code",
   "execution_count": 73,
   "metadata": {},
   "outputs": [],
   "source": [
    "functions = [\n",
    "    {\n",
    "      \"name\": \"get_current_weather\",\n",
    "      \"description\": \"Get the current weather in a given location\",\n",
    "      \"parameters\": {\n",
    "        \"type\": \"object\",\n",
    "        \"properties\": {\n",
    "          \"location\": {\n",
    "            \"type\": \"string\",\n",
    "            \"description\": \"The city and state, e.g. San Francisco, CA\"\n",
    "          },\n",
    "          \"unit\": { \"type\": \"string\", \"enum\": [\"celsius\", \"fahrenheit\"] }\n",
    "        },\n",
    "        \"required\": [\"location\"]\n",
    "      }\n",
    "    }\n",
    "]\n",
    "\n",
    "\n",
    "def get_current_weather(location: str, unit: str = \"celsius\"):\n",
    "    \"\"\"\n",
    "    Get the current weather in a given location.\n",
    "\n",
    "    Parameters:\n",
    "    location (str): The city and state, e.g. San Francisco, CA\n",
    "    unit (str): The unit of temperature, can be either 'celsius' or 'fahrenheit'. Default is 'celsius'.\n",
    "\n",
    "    Returns:\n",
    "    str: A string that describes the current weather.\n",
    "    \"\"\"\n",
    "\n",
    "    # This is a mock function, so let's return a mock weather report.\n",
    "    weather_report = f\"The current weather in {location} is 20 degrees {unit}.\"\n",
    "    return weather_report\n"
   ]
  },
  {
   "cell_type": "code",
   "execution_count": 74,
   "metadata": {},
   "outputs": [
    {
     "name": "stdout",
     "output_type": "stream",
     "text": [
      "{\n",
      "  \"id\": \"chatcmpl-7ecACKpMd4fq35Am1fWZuD66w42a9\",\n",
      "  \"object\": \"chat.completion\",\n",
      "  \"created\": 1689914176,\n",
      "  \"model\": \"gpt-3.5-turbo-0613\",\n",
      "  \"choices\": [\n",
      "    {\n",
      "      \"index\": 0,\n",
      "      \"message\": {\n",
      "        \"role\": \"assistant\",\n",
      "        \"content\": null,\n",
      "        \"function_call\": {\n",
      "          \"name\": \"get_current_weather\",\n",
      "          \"arguments\": \"{\\n  \\\"location\\\": \\\"New York, NY\\\"\\n}\"\n",
      "        }\n",
      "      },\n",
      "      \"finish_reason\": \"function_call\"\n",
      "    }\n",
      "  ],\n",
      "  \"usage\": {\n",
      "    \"prompt_tokens\": 125,\n",
      "    \"completion_tokens\": 19,\n",
      "    \"total_tokens\": 144\n",
      "  }\n",
      "}\n"
     ]
    }
   ],
   "source": [
    "user_input = {\n",
    "    \"role\": \"user\", \"content\": \"What is the weather like today in New York City, New York?\"\n",
    "}\n",
    "\n",
    "messages.append(user_input)\n",
    "\n",
    "response = get_chat_completion(\n",
    "    model=\"gpt-3.5-turbo-0613\",\n",
    "    messages=messages,\n",
    "    functions=functions,\n",
    "    function_call=\"auto\",  # auto is default, but we'll be explicit\n",
    ")\n",
    "\n",
    "messages.append(response[\"choices\"][0][\"message\"])\n",
    "\n",
    "print(response)"
   ]
  },
  {
   "cell_type": "code",
   "execution_count": 76,
   "metadata": {},
   "outputs": [
    {
     "name": "stdout",
     "output_type": "stream",
     "text": [
      "system\n",
      "My name is ChatGPT. I am a helpful assistant.\n",
      "\n",
      "user\n",
      "Hello! What is your name?\n",
      "\n",
      "assistant\n",
      "Hello! My name is ChatGPT. How can I assist you today?\n",
      "\n",
      "user\n",
      "What is the weather like today?\n",
      "\n",
      "assistant\n",
      "None\n",
      "\n"
     ]
    }
   ],
   "source": [
    "for message in messages:\n",
    "    print(f\"{message['role']}\\n{message['content']}\\n\")"
   ]
  },
  {
   "cell_type": "code",
   "execution_count": 77,
   "metadata": {},
   "outputs": [
    {
     "name": "stdout",
     "output_type": "stream",
     "text": [
      "{\n",
      "  \"name\": \"get_current_weather\",\n",
      "  \"arguments\": \"{\\n  \\\"location\\\": \\\"New York, NY\\\"\\n}\"\n",
      "}\n"
     ]
    }
   ],
   "source": [
    "function_call = response[\"choices\"][0][\"message\"][\"function_call\"]\n",
    "\n",
    "print(function_call)"
   ]
  },
  {
   "cell_type": "code",
   "execution_count": 78,
   "metadata": {},
   "outputs": [
    {
     "name": "stdout",
     "output_type": "stream",
     "text": [
      "get_current_weather {'location': 'New York, NY'}\n"
     ]
    }
   ],
   "source": [
    "import json\n",
    "\n",
    "function_name = function_call[\"name\"]\n",
    "function_args = json.loads(function_call[\"arguments\"])\n",
    "\n",
    "print(function_name, function_args)"
   ]
  },
  {
   "cell_type": "code",
   "execution_count": 79,
   "metadata": {},
   "outputs": [
    {
     "name": "stdout",
     "output_type": "stream",
     "text": [
      "The current weather in New York, NY is 20 degrees celsius.\n"
     ]
    }
   ],
   "source": [
    "if function_name == 'get_current_weather':\n",
    "    location = function_args['location']\n",
    "    unit = function_args.get('unit', 'celsius')  # use default 'celsius' if unit is not provided\n",
    "    weather_report = get_current_weather(location, unit)\n",
    "    # then pass weather_report back to the model as a new message\n",
    "    print(weather_report)"
   ]
  },
  {
   "cell_type": "code",
   "execution_count": 81,
   "metadata": {},
   "outputs": [
    {
     "name": "stdout",
     "output_type": "stream",
     "text": [
      "system\n",
      "My name is ChatGPT. I am a helpful assistant.\n",
      "\n",
      "user\n",
      "Hello! What is your name?\n",
      "\n",
      "assistant\n",
      "Hello! My name is ChatGPT. How can I assist you today?\n",
      "\n",
      "user\n",
      "What is the weather like today?\n",
      "\n",
      "assistant\n",
      "The current weather in New York, NY is 20 degrees celsius.\n",
      "\n"
     ]
    }
   ],
   "source": [
    "messages[-1][\"content\"] = weather_report\n",
    "\n",
    "for message in messages:\n",
    "    print(f\"{message['role']}\\n{message['content']}\\n\")"
   ]
  },
  {
   "cell_type": "code",
   "execution_count": 82,
   "metadata": {},
   "outputs": [
    {
     "name": "stdout",
     "output_type": "stream",
     "text": [
      "system\n",
      "My name is ChatGPT. I am a helpful assistant.\n",
      "\n",
      "user\n",
      "Hello! What is your name?\n",
      "\n",
      "assistant\n",
      "Hello! My name is ChatGPT. How can I assist you today?\n",
      "\n",
      "user\n",
      "What is the weather like today?\n",
      "\n",
      "assistant\n",
      "The current weather in New York, NY is 20 degrees celsius.\n",
      "\n",
      "user\n",
      "Thank you! How should I dress for that kind of temperature?\n",
      "\n"
     ]
    }
   ],
   "source": [
    "messages.append({\"role\": \"user\", \"content\": \"Thank you! How should I dress for that kind of temperature?\"})\n",
    "\n",
    "for message in messages:\n",
    "    print(f\"{message['role']}\\n{message['content']}\\n\")\n"
   ]
  },
  {
   "cell_type": "code",
   "execution_count": 83,
   "metadata": {},
   "outputs": [
    {
     "name": "stdout",
     "output_type": "stream",
     "text": [
      "{\n",
      "  \"id\": \"chatcmpl-7ecEBbVOOPN0fDEPUqQVGttw50TqM\",\n",
      "  \"object\": \"chat.completion\",\n",
      "  \"created\": 1689914423,\n",
      "  \"model\": \"gpt-3.5-turbo-0613\",\n",
      "  \"choices\": [\n",
      "    {\n",
      "      \"index\": 0,\n",
      "      \"message\": {\n",
      "        \"role\": \"assistant\",\n",
      "        \"content\": \"For a temperature of 20 degrees Celsius, you might consider wearing a light jacket or sweater. You could also layer your clothing to adjust for any changes in temperature throughout the day. Don't forget to check the weather forecast for any possible rain or wind, as this may impact your clothing choice as well.\"\n",
      "      },\n",
      "      \"finish_reason\": \"stop\"\n",
      "    }\n",
      "  ],\n",
      "  \"usage\": {\n",
      "    \"prompt_tokens\": 183,\n",
      "    \"completion_tokens\": 62,\n",
      "    \"total_tokens\": 245\n",
      "  }\n",
      "}\n"
     ]
    }
   ],
   "source": [
    "# Call the model again with the updated messages\n",
    "response = get_chat_completion(\n",
    "    model=\"gpt-3.5-turbo-0613\",\n",
    "    messages=messages,\n",
    "    functions=functions,\n",
    "    function_call=\"auto\",  # auto is default, but we'll be explicit\n",
    ")\n",
    "\n",
    "print(response)"
   ]
  },
  {
   "cell_type": "code",
   "execution_count": 84,
   "metadata": {},
   "outputs": [
    {
     "name": "stdout",
     "output_type": "stream",
     "text": [
      "system\n",
      "My name is ChatGPT. I am a helpful assistant.\n",
      "\n",
      "user\n",
      "Hello! What is your name?\n",
      "\n",
      "assistant\n",
      "Hello! My name is ChatGPT. How can I assist you today?\n",
      "\n",
      "user\n",
      "What is the weather like today?\n",
      "\n",
      "assistant\n",
      "The current weather in New York, NY is 20 degrees celsius.\n",
      "\n",
      "user\n",
      "Thank you! How should I dress for that kind of temperature?\n",
      "\n",
      "assistant\n",
      "For a temperature of 20 degrees Celsius, you might consider wearing a light jacket or sweater. You could also layer your clothing to adjust for any changes in temperature throughout the day. Don't forget to check the weather forecast for any possible rain or wind, as this may impact your clothing choice as well.\n",
      "\n"
     ]
    }
   ],
   "source": [
    "messages.append(response[\"choices\"][0][\"message\"])\n",
    "\n",
    "for message in messages:\n",
    "    print(f\"{message['role']}\\n{message['content']}\\n\")"
   ]
  }
 ],
 "metadata": {
  "kernelspec": {
   "display_name": ".venv",
   "language": "python",
   "name": "python3"
  },
  "language_info": {
   "codemirror_mode": {
    "name": "ipython",
    "version": 3
   },
   "file_extension": ".py",
   "mimetype": "text/x-python",
   "name": "python",
   "nbconvert_exporter": "python",
   "pygments_lexer": "ipython3",
   "version": "3.11.3"
  },
  "orig_nbformat": 4
 },
 "nbformat": 4,
 "nbformat_minor": 2
}
