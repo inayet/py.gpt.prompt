{
 "cells": [
  {
   "cell_type": "code",
   "execution_count": 5,
   "metadata": {},
   "outputs": [],
   "source": [
    "from pygptprompt.config.manager import ConfigurationManager\n",
    "from pygptprompt.function.lazy import LazyFunctionMapper\n",
    "from pygptprompt.function.memory import SQLiteMemoryFunction\n",
    "\n",
    "config = ConfigurationManager(\"tests/config.dev.json\")\n",
    "mapper = LazyFunctionMapper()"
   ]
  },
  {
   "cell_type": "code",
   "execution_count": 6,
   "metadata": {},
   "outputs": [],
   "source": [
    "mapper.register_class(\n",
    "    \"SQLiteMemoryFunction\",\n",
    "    SQLiteMemoryFunction,\n",
    "    table_name=\"test\",\n",
    "    config=config,\n",
    ")"
   ]
  },
  {
   "cell_type": "code",
   "execution_count": 7,
   "metadata": {},
   "outputs": [
    {
     "name": "stderr",
     "output_type": "stream",
     "text": [
      "WARNING:root:Database connection is closed.\n",
      "INFO:SQLiteMemoryStore:Table memory_test already exists.\n"
     ]
    }
   ],
   "source": [
    "mapper.map_class_methods(\"SQLiteMemoryFunction\", [\"query_memory\", \"update_memory\", \"get_all_keys\"])"
   ]
  },
  {
   "cell_type": "code",
   "execution_count": 8,
   "metadata": {},
   "outputs": [
    {
     "name": "stderr",
     "output_type": "stream",
     "text": [
      "INFO:SQLiteMemoryFunction:Memory updated for key: test\n"
     ]
    },
    {
     "name": "stdout",
     "output_type": "stream",
     "text": [
      "Memory updated for key: test\n",
      "\n",
      "---\n",
      "2023-10-08 13:32:18.162029:\n",
      "---\n",
      "this is just a test\n",
      "\n",
      "Available Memory Keys:\n",
      "test\n",
      "\n"
     ]
    }
   ],
   "source": [
    "update_memory = mapper.functions[\"SQLiteMemoryFunction_update_memory\"]\n",
    "print(update_memory(\"test\", \"this is just a test\"))\n",
    "print()\n",
    "\n",
    "query_memory = mapper.functions[\"SQLiteMemoryFunction_query_memory\"]\n",
    "print(query_memory(\"test\"))\n",
    "print()\n",
    "\n",
    "get_all_keys = mapper.functions[\"SQLiteMemoryFunction_get_all_keys\"]\n",
    "print(get_all_keys())\n",
    "print()"
   ]
  }
 ],
 "metadata": {
  "kernelspec": {
   "display_name": ".venv",
   "language": "python",
   "name": "python3"
  },
  "language_info": {
   "codemirror_mode": {
    "name": "ipython",
    "version": 3
   },
   "file_extension": ".py",
   "mimetype": "text/x-python",
   "name": "python",
   "nbconvert_exporter": "python",
   "pygments_lexer": "ipython3",
   "version": "3.11.5"
  }
 },
 "nbformat": 4,
 "nbformat_minor": 2
}
