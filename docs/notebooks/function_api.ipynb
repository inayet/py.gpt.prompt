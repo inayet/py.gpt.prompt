{
 "cells": [
  {
   "cell_type": "code",
   "execution_count": 6,
   "metadata": {},
   "outputs": [],
   "source": [
    "import openai\n",
    "import dotenv\n",
    "import os\n",
    "\n",
    "if not dotenv.load_dotenv(\"../../.env\"):\n",
    "    raise ValueError(\"EnvironmentError: Failed to load `.env`\")\n",
    "\n",
    "api_key = os.getenv(\"OPENAI_API_KEY\") or \"\"\n",
    "\n",
    "if not api_key:\n",
    "    raise ValueError(\"EnvironmentError: Failed to load `OPENAI_API_KEY`\")\n",
    "\n",
    "openai.api_key = api_key"
   ]
  },
  {
   "cell_type": "code",
   "execution_count": 10,
   "metadata": {},
   "outputs": [
    {
     "name": "stdout",
     "output_type": "stream",
     "text": [
      "{\n",
      "  \"id\": \"chatcmpl-7eaOZ7aYb6NVG3DV3fOEaEK8BYkyX\",\n",
      "  \"object\": \"chat.completion\",\n",
      "  \"created\": 1689907379,\n",
      "  \"model\": \"gpt-3.5-turbo-0613\",\n",
      "  \"choices\": [\n",
      "    {\n",
      "      \"index\": 0,\n",
      "      \"message\": {\n",
      "        \"role\": \"assistant\",\n",
      "        \"content\": \"Hello! My name is ChatGPT. How can I assist you today?\"\n",
      "      },\n",
      "      \"finish_reason\": \"stop\"\n",
      "    }\n",
      "  ],\n",
      "  \"usage\": {\n",
      "    \"prompt_tokens\": 31,\n",
      "    \"completion_tokens\": 16,\n",
      "    \"total_tokens\": 47\n",
      "  }\n",
      "}\n"
     ]
    }
   ],
   "source": [
    "system_prompt = {\n",
    "    \"role\": \"system\", \"content\": \"My name is ChatGPT. I am a helpful assistant.\"\n",
    "}\n",
    "\n",
    "user_input = {\n",
    "    \"role\": \"user\", \"content\": \"Hello! What is your name?\"\n",
    "}\n",
    "\n",
    "messages = [system_prompt, user_input]\n",
    "\n",
    "get_chat_completion = openai.ChatCompletion.create\n",
    "\n",
    "response = get_chat_completion(model=\"gpt-3.5-turbo\", messages=messages, temperature=0)\n",
    "\n",
    "print(response)"
   ]
  },
  {
   "cell_type": "code",
   "execution_count": null,
   "metadata": {},
   "outputs": [],
   "source": []
  }
 ],
 "metadata": {
  "kernelspec": {
   "display_name": ".venv",
   "language": "python",
   "name": "python3"
  },
  "language_info": {
   "codemirror_mode": {
    "name": "ipython",
    "version": 3
   },
   "file_extension": ".py",
   "mimetype": "text/x-python",
   "name": "python",
   "nbconvert_exporter": "python",
   "pygments_lexer": "ipython3",
   "version": "3.11.3"
  },
  "orig_nbformat": 4
 },
 "nbformat": 4,
 "nbformat_minor": 2
}
